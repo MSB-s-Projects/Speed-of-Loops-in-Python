{
 "cells": [
  {
   "cell_type": "markdown",
   "metadata": {},
   "source": [
    "# Speed of Loops in Python."
   ]
  },
  {
   "cell_type": "markdown",
   "metadata": {},
   "source": [
    "- `Task:` We will be adding numbers from 0 to n-1 for a large value of n such as n = 10^9.\n",
    "\n",
    "- We will be doing this using different methods of looping in Python."
   ]
  }
 ],
 "metadata": {
  "language_info": {
   "name": "python"
  },
  "orig_nbformat": 4
 },
 "nbformat": 4,
 "nbformat_minor": 2
}
