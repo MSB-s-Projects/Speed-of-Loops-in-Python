{
 "cells": [
  {
   "cell_type": "markdown",
   "metadata": {},
   "source": [
    "# Speed of Loops in Python.\n",
    "\n",
    "---\n"
   ]
  },
  {
   "cell_type": "markdown",
   "metadata": {},
   "source": [
    "## Introduction :"
   ]
  },
  {
   "cell_type": "markdown",
   "metadata": {},
   "source": [
    "- `Task:` We will be adding numbers from 0 to n-1 for a large value of n such as n = 10^9.\n",
    "\n",
    "- We will be doing this using different methods of looping in Python.\n"
   ]
  },
  {
   "cell_type": "markdown",
   "metadata": {},
   "source": [
    "#### Method to Calculate Time Taken\n",
    "\n",
    "- We will be using the `timeit` module of python to calculate the time taken by each method.\n"
   ]
  },
  {
   "cell_type": "markdown",
   "metadata": {},
   "source": [
    "## Importing the required modules."
   ]
  },
  {
   "cell_type": "code",
   "execution_count": 1,
   "metadata": {},
   "outputs": [],
   "source": [
    "from timeit import timeit\n",
    "import numpy as np\n",
    "import pandas as pd\n",
    "import matplotlib.pyplot as plt\n",
    "import seaborn as sns"
   ]
  },
  {
   "cell_type": "markdown",
   "metadata": {},
   "source": [
    "## Methods :"
   ]
  },
  {
   "cell_type": "markdown",
   "metadata": {},
   "source": [
    "### Method 0: Using while loop\n"
   ]
  },
  {
   "cell_type": "markdown",
   "metadata": {},
   "source": [
    "- Defining a function to add numbers *using while loop.*"
   ]
  },
  {
   "cell_type": "code",
   "execution_count": 2,
   "metadata": {},
   "outputs": [],
   "source": [
    "def while_loop(n=10**9):  \n",
    "    i = 0  \n",
    "    sum = 0  \n",
    "    while i < n:  \n",
    "        sum += i  \n",
    "        i += 1  \n",
    "    return sum"
   ]
  },
  {
   "cell_type": "markdown",
   "metadata": {},
   "source": [
    "### Method 1: Using for loop"
   ]
  },
  {
   "cell_type": "markdown",
   "metadata": {},
   "source": [
    "##### Method 1.1 : Pure for loop\n"
   ]
  },
  {
   "cell_type": "markdown",
   "metadata": {},
   "source": [
    "- Defining a function to add numbers *using pure for loop.*"
   ]
  },
  {
   "cell_type": "code",
   "execution_count": 3,
   "metadata": {},
   "outputs": [],
   "source": [
    "def for_loop(n=10**9):  \n",
    "    sum = 0  \n",
    "    for i in range(n):  \n",
    "        sum += i  \n",
    "    return sum"
   ]
  },
  {
   "cell_type": "markdown",
   "metadata": {},
   "source": [
    "#### Adding Redundant Code to *slow down for loop* in order to match the speed of while loop."
   ]
  },
  {
   "cell_type": "markdown",
   "metadata": {},
   "source": [
    "##### Method 1.2 : With Increment"
   ]
  },
  {
   "cell_type": "markdown",
   "metadata": {},
   "source": [
    "- Defining a function to add numbers *using for loop with Increment.*"
   ]
  },
  {
   "cell_type": "code",
   "execution_count": 4,
   "metadata": {},
   "outputs": [],
   "source": [
    "def for_loop_with_increment(n=10**9):\n",
    "    sum = 0\n",
    "    for i in range(n):\n",
    "        sum+=1\n",
    "        i+=1\n",
    "    return sum"
   ]
  },
  {
   "cell_type": "markdown",
   "metadata": {},
   "source": [
    "##### Method 1.3 : With test"
   ]
  },
  {
   "cell_type": "markdown",
   "metadata": {},
   "source": [
    "- Defining a function to add numbers *using for loop with test.*"
   ]
  },
  {
   "cell_type": "code",
   "execution_count": 5,
   "metadata": {},
   "outputs": [],
   "source": [
    "def for_loop_with_test(n=10**9):\n",
    "    sum = 0\n",
    "    for i in range(n):\n",
    "        if i<n:\n",
    "            pass\n",
    "        \n",
    "        sum+=1\n",
    "    return sum"
   ]
  },
  {
   "cell_type": "markdown",
   "metadata": {},
   "source": [
    "##### Method 1.4 : With increment and test"
   ]
  },
  {
   "cell_type": "markdown",
   "metadata": {},
   "source": [
    "- Defining a function to add numbers using *for loop with increment and test.*"
   ]
  },
  {
   "cell_type": "code",
   "execution_count": 6,
   "metadata": {},
   "outputs": [],
   "source": [
    "def for_loop_with_increment_and_test(n=10**9):\n",
    "    sum = 0\n",
    "    for i in range(n):\n",
    "        if i<n:\n",
    "            pass\n",
    "        \n",
    "        sum+=1\n",
    "        i+=1\n",
    "    return sum"
   ]
  },
  {
   "cell_type": "markdown",
   "metadata": {},
   "source": [
    "### Method 2: Using Python built in Functions"
   ]
  },
  {
   "cell_type": "markdown",
   "metadata": {},
   "source": [
    "- Defining a function to add numbers *using Python built in Functions.*"
   ]
  },
  {
   "cell_type": "code",
   "execution_count": 7,
   "metadata": {},
   "outputs": [],
   "source": [
    "def python_sum(n=10**9):\n",
    "    return sum(range(n))"
   ]
  },
  {
   "cell_type": "markdown",
   "metadata": {},
   "source": [
    "### Method 3: Using numpy"
   ]
  },
  {
   "cell_type": "markdown",
   "metadata": {},
   "source": [
    "- Defining a function to add numbers *using numpy.*"
   ]
  },
  {
   "cell_type": "code",
   "execution_count": 8,
   "metadata": {},
   "outputs": [],
   "source": [
    "def numpy_sum(n=10**9):\n",
    "    return np.sum(np.arange(n))"
   ]
  },
  {
   "cell_type": "markdown",
   "metadata": {},
   "source": [
    "### Method 4: Using Pandas"
   ]
  },
  {
   "cell_type": "markdown",
   "metadata": {},
   "source": [
    "- Defining a function to add numbers *using pandas.*"
   ]
  },
  {
   "cell_type": "code",
   "execution_count": 9,
   "metadata": {},
   "outputs": [],
   "source": [
    "def pandas_sum(n=10**9):\n",
    "    return pd.Series(np.arange(n)).sum()"
   ]
  },
  {
   "cell_type": "markdown",
   "metadata": {},
   "source": [
    "### Method 5: Using basic maths"
   ]
  },
  {
   "cell_type": "markdown",
   "metadata": {},
   "source": [
    "- Defining a function to add numbers *using basic maths.*"
   ]
  },
  {
   "cell_type": "code",
   "execution_count": 10,
   "metadata": {},
   "outputs": [],
   "source": [
    "def math_sum(n=10**9):\n",
    "    return (n*(n+1))//2"
   ]
  },
  {
   "cell_type": "markdown",
   "metadata": {},
   "source": [
    "## Code :"
   ]
  },
  {
   "cell_type": "markdown",
   "metadata": {},
   "source": [
    "### Main Function"
   ]
  },
  {
   "cell_type": "markdown",
   "metadata": {},
   "source": [
    "- Defining the **main function** to calculate the time duration of each method."
   ]
  },
  {
   "cell_type": "code",
   "execution_count": 11,
   "metadata": {},
   "outputs": [],
   "source": [
    "# Function to Calculate Time taken by a function to execute.\n",
    "def time_calc(func):\n",
    "    return timeit(func, number=1)\n",
    "\n",
    "# Main Function.\n",
    "def main():\n",
    "    # dct = {'While Loop':[time_calc(while_loop)], 'For Loop':[time_calc(for_loop)]}\n",
    "    dct = {'Type of Loop': ['While Loop', 'For Loop', 'For Loop-I', 'For loop-T', 'For loop-I&T', 'Python', 'numpy', 'pandas', 'basic maths'],'Time (in sec)':[time_calc(while_loop), time_calc(for_loop), time_calc(for_loop_with_increment), time_calc(for_loop_with_test), time_calc(for_loop_with_increment_and_test), time_calc(python_sum), time_calc(numpy_sum), time_calc(pandas_sum), time_calc(math_sum)]}\n",
    "    global data_df\n",
    "    data_df = pd.DataFrame(dct)"
   ]
  },
  {
   "cell_type": "markdown",
   "metadata": {},
   "source": [
    "### if __name__ == \"__main__\":"
   ]
  },
  {
   "cell_type": "markdown",
   "metadata": {},
   "source": [
    "- Calling the main function."
   ]
  },
  {
   "cell_type": "code",
   "execution_count": 12,
   "metadata": {},
   "outputs": [],
   "source": [
    "if __name__ == \"__main__\":\n",
    "    main()"
   ]
  },
  {
   "cell_type": "markdown",
   "metadata": {},
   "source": [
    "### Dataframe"
   ]
  },
  {
   "cell_type": "markdown",
   "metadata": {},
   "source": [
    "- **Printing the dataframe** containing the time taken by each method."
   ]
  },
  {
   "cell_type": "code",
   "execution_count": 13,
   "metadata": {},
   "outputs": [
    {
     "data": {
      "text/html": [
       "<div>\n",
       "<style scoped>\n",
       "    .dataframe tbody tr th:only-of-type {\n",
       "        vertical-align: middle;\n",
       "    }\n",
       "\n",
       "    .dataframe tbody tr th {\n",
       "        vertical-align: top;\n",
       "    }\n",
       "\n",
       "    .dataframe thead th {\n",
       "        text-align: right;\n",
       "    }\n",
       "</style>\n",
       "<table border=\"1\" class=\"dataframe\">\n",
       "  <thead>\n",
       "    <tr style=\"text-align: right;\">\n",
       "      <th></th>\n",
       "      <th>Type of Loop</th>\n",
       "      <th>Time (in sec)</th>\n",
       "    </tr>\n",
       "  </thead>\n",
       "  <tbody>\n",
       "    <tr>\n",
       "      <th>0</th>\n",
       "      <td>While Loop</td>\n",
       "      <td>122.235592</td>\n",
       "    </tr>\n",
       "    <tr>\n",
       "      <th>1</th>\n",
       "      <td>For Loop</td>\n",
       "      <td>66.032937</td>\n",
       "    </tr>\n",
       "    <tr>\n",
       "      <th>2</th>\n",
       "      <td>For Loop-I</td>\n",
       "      <td>91.084092</td>\n",
       "    </tr>\n",
       "    <tr>\n",
       "      <th>3</th>\n",
       "      <td>For loop-T</td>\n",
       "      <td>77.045088</td>\n",
       "    </tr>\n",
       "    <tr>\n",
       "      <th>4</th>\n",
       "      <td>For loop-I&amp;T</td>\n",
       "      <td>114.238944</td>\n",
       "    </tr>\n",
       "    <tr>\n",
       "      <th>5</th>\n",
       "      <td>Python</td>\n",
       "      <td>34.324641</td>\n",
       "    </tr>\n",
       "    <tr>\n",
       "      <th>6</th>\n",
       "      <td>numpy</td>\n",
       "      <td>37.076752</td>\n",
       "    </tr>\n",
       "    <tr>\n",
       "      <th>7</th>\n",
       "      <td>pandas</td>\n",
       "      <td>5.253408</td>\n",
       "    </tr>\n",
       "    <tr>\n",
       "      <th>8</th>\n",
       "      <td>basic maths</td>\n",
       "      <td>0.000024</td>\n",
       "    </tr>\n",
       "  </tbody>\n",
       "</table>\n",
       "</div>"
      ],
      "text/plain": [
       "   Type of Loop  Time (in sec)\n",
       "0    While Loop     122.235592\n",
       "1      For Loop      66.032937\n",
       "2    For Loop-I      91.084092\n",
       "3    For loop-T      77.045088\n",
       "4  For loop-I&T     114.238944\n",
       "5        Python      34.324641\n",
       "6         numpy      37.076752\n",
       "7        pandas       5.253408\n",
       "8   basic maths       0.000024"
      ]
     },
     "execution_count": 13,
     "metadata": {},
     "output_type": "execute_result"
    }
   ],
   "source": [
    "data_df"
   ]
  },
  {
   "cell_type": "markdown",
   "metadata": {},
   "source": [
    "### Graph"
   ]
  },
  {
   "cell_type": "markdown",
   "metadata": {},
   "source": [
    "- *Plotting the data* in a bar graph."
   ]
  },
  {
   "cell_type": "code",
   "execution_count": 14,
   "metadata": {},
   "outputs": [
    {
     "data": {
      "image/png": "[encoded data removed]",
      "text/plain": [
       "<Figure size 640x480 with 1 Axes>"
      ]
     },
     "metadata": {},
     "output_type": "display_data"
    },
    {
     "data": {
      "text/plain": [
       "<Figure size 2000x2000 with 0 Axes>"
      ]
     },
     "metadata": {},
     "output_type": "display_data"
    }
   ],
   "source": [
    "\n",
    "graph = sns.barplot(x='Type of Loop', y='Time (in sec)', data=data_df, palette='RdPu')\n",
    "\n",
    "sns.axes_style('darkgrid')\n",
    "plt.title('Time taken by different types of loops')\n",
    "\n",
    "plt.figure(figsize=(20, 20))\n",
    "graph.set_xticklabels(graph.get_xticklabels(), rotation=30, horizontalalignment='right', fontsize=8)\n",
    "\n",
    "for i in graph.containers:\n",
    "    graph.bar_label(i,)\n",
    "\n",
    "plt.show()"
   ]
  },
  {
   "cell_type": "markdown",
   "metadata": {},
   "source": [
    "## Conclusion :"
   ]
  },
  {
   "cell_type": "markdown",
   "metadata": {},
   "source": [
    "### Observations:"
   ]
  },
  {
   "cell_type": "markdown",
   "metadata": {},
   "source": [
    "- We can see that the method which uses **no loops** at all(Basic maths method) is the **fastest method** to calculate the sum .\n",
    "- After the Basic Maths Method the Methods which use the built in functions of python are the fastest.\n",
    "  - Pandas Comes out to be the top among them\n",
    "  - Python's built in functions are the second fastest\n",
    "  - numpy the third fastest\n",
    "- After that we have the for loop\n",
    "- At **last place** we have **while loop.**\n",
    "\n"
   ]
  },
  {
   "cell_type": "markdown",
   "metadata": {},
   "source": [
    "### Reasons:"
   ]
  },
  {
   "cell_type": "markdown",
   "metadata": {},
   "source": [
    "- The reason for being the basic maths method the fastest is obvious becaus it calculates the sum by one single operation, so it is the most optimized method.\n",
    "- The reason for inbuilt functions being the fastest (Pandas in Particular) is that the *inbuilt functions are written in C/C++* and are highly optimized and are made for the purpose of computing such large data.\n",
    "- The reason for for loop being faster than while loop is that the for loop is written in C/C++, *it passes the iterator to c code* to calculate the sum and is highly optimized while on the other hand while loop uses python itself to calculate the sum that's why it is slower.\n",
    "- As we can see when we add redundant code to for loop the code *uses python and that makes the code slower.*"
   ]
  },
  {
   "cell_type": "markdown",
   "metadata": {},
   "source": [
    "### Final Verdict:"
   ]
  },
  {
   "cell_type": "markdown",
   "metadata": {},
   "source": [
    "- As we can Conclude from the above data that the *fastest way to loop in python is to not loop in python.* \n",
    "- It is a sad reality but python is a slower language and it takes time to perform such simple operations.\n",
    "- But It is also because python is such a powerful package that it packs too much functionality in it and that makes it slower.\n",
    "- We can also conclude from this project that **we should prefer for loop over while loop wherever we can.**"
   ]
  },
  {
   "cell_type": "markdown",
   "metadata": {},
   "source": [
    "## References :"
   ]
  },
  {
   "cell_type": "markdown",
   "metadata": {},
   "source": [
    "- The idea and main concept of this project was taken from this amazing video of YouTube Channel named [**`mCoding`**](https://www.youtube.com/c/mCodingWithJamesMurphy):\n",
    "  \n",
    "  [![The Fastest Way to Loop in Python - An Unfortunate Truth](data:image/png;base64,iVBORw0KGgoAAAANSUhEUgAAASwAAACoCAMAAABt9SM9AAACE1BMVEUWFiAODxQmJzkQERYJCg8KfNQAAAAODhYWFh4KfNIXFSAmJzsIftkUFSEZXpwmIC0pKDf///8gIS7n5+kjIzMZGh/j5OTv7+83i9b3+/0pKDoaGiYAAAknhdUAABIADBIAc9DjOTrW1dns9Pm1NDUsFBkyMzjPNzZQGyAADRchIiebLzMAABQ3caL/00QAAA0AABorLDFBQUWdnKANAAAAACL//v/ExMaNjY85Oj4AAB0dHiNXV1utra83dakyYYr/20r/zDtmZmh/f4AOKkYJCQCbKinVpVEYERVICQ+lpqjMzNGWl5gbMkkXERgWAQYQIzcOP2cSS34TNVgSdsAUY6ASVYwRPWF0r95Bl9rU6fpWl9DF3OlwqdAAc9any+gticxnpt9RUlQRITgfHRlNPitnUyltUDbGmVTMk1OKaTmheT81LR18YD7anlTZq2HBm0k6W503ccYjM107Z645X7CNdk8OGg0lJRsyOiUAFDMvY8AAGBltJi7PXTzJVUXDamuUJTbKXkeqPzqdRWabP1aWNUXLcnWRGiHjNjKDJSnRUEC4MDXLWVu4QVW2NT+0LiNNRiIaRoJEJSCCVzeVZD4fABRnRjOKeXpkVFNDLzPTOkStZULKe0l2PSqWWTVWJR2ug4eJWFrasLCrgYAxUnTsyFCSeDenlDtdVCTIpUIzeJv/61UwIwCci0EAFT7rukZ8+hT5AAAV3klEQVR4nO2di2PTVpbGLSRf2Y6VIQTbuBF2cBIXGxPHj+A4Dx52TNzEmLwIhc5SGggJceI2kMzQQjt9TadM6QM6nd2ZltnudgJTttvlT9xzriRbdh5EtvMi+qitK+kotX4559xzdWXFYDZa63+zr9Y6aKA6sO+VJhM2hH11BwWTYbfJYoIPvt9gUdY3FVaTDmvjsHTP0gBL9ywNsHTP0gBL9ywNsHTP0mFtDiw9DDXA0j1LAyzdszTA2oGeZRIEeLdk0+loGpQFENInXO3T7XXPghNnU+eHR0Yn6i/UT0yM9LOplMmWNlCGK4z3uGcJ0fRY/bjRajaCrFar2Tw+2hQVLJbVaO1tWKb0tdFxs5mSMluVl/XCWDarh2FRJpNgyrKmUbPsVCUCXP3prGAp/4R71rOELMuNjVuNVuNKWIhrQmBNlrJj9qpn2cC1JiBFWVchRYPSON6f2lZYO8WzBJPFZBHqwankfIWuJDHCJTA0Yqa/HbUYSj7kXvQsSFeCwTZuRWEPiIFolqIRGGHTjPCs5otR8D/VgXvRs9CxUpCuzOhCcMJAprnZSn0LwtJ8pbn5Ct1nNY5BmlcduFWwKJkSWIbtC0OThas3UzDGZgTWfOj11y+NS55lhPYbWHihexn70+pPuTFYdVWAqgMdlH4/TXWvNNEG9awt5aOWJZsdBRjWQ5dbLl8GD7t6uQHU8kYzoDr8W9r+tysYhmbreJNFsNiUj7oxWPur0ysKrFf2N0GFYzIZ9r+yXzDQ5lYLP0d2jGaoQ07gcrj5UEsDVctho/mw3G54S85hF86bDDaLNlhNVf4yeZ7hQdjgsW0QlE3bIW6c9n0U1iEj9auGEw0NbzY3X5ZZNbTQogLy1sWswaSE4sZgHeBeJkVHzRQFhXX1dWTjRFgtzXIb9Xoz5nsIRCEr7F1YPCfcshbD8A0IvMtXaapyXsX2JSltvdksF2AjaZth78KKjshDHITlBDIt1sNX3sJAfBMTl/XKJXSzywqsC1mTtgRfCksUpQU0RKlR/G8XKEpLLMWz0LmgfZWmrRMNbzXDTmy2FIaMY6y2BF8Ky+8nxC8SP+vv8bM2lukhJCSSHlb07wZa0X7IRAXPogFnNTYfdlJa6E9WcwvCOqyMqeu5ymGRSYfdHvckwvakw+FIxpIJDxlywCtGHGTbEGxc0VFl8CzBcl5CIoclcG/QQrVFKiRkWJDiK4fV6ySxweRQXx/xnpgknq5EY/wEcSQ8TvbEroB1oRQWzeTWcVpgoWOVwzKb+9NVwGrIOJNBuzNEiNNLhk447WEnsSc8sYxzN8DyjZfAcl6yFj3rEh0qlsGC/rAaz4okCOmLEVF0xoknk2yksOyT9l0RhsOFa1YUVkuzNCZskdo4fC6FZTROVAWLEI5kYiRIGuIYhg62IdIQtsftu8Gzov1Wayks6Qo8BSRtL4EFnUF95bDEeAaYkEQS3jN+kuwNd5HevgTpCiUyuwAW0QrLaLxQOSxOpEgIviM1gn6GL5HsAlbaPctsrcKzdrnAs4xaYIFr1Ud1WOoEvy6sxT0LK6oZlrk+tVdhafesPQxLHC7Mqm4M1mGrtjqr7iBbpRhJynI7xY9bNcEym0c0jg2ZmrDaEYpOaINlPHxtz8LiUyNKHG4Iltk4brFphcW/JLDY6DUcwpg37FnW0ZTG61kvD6w0E623qiYsXpyz+lnDXoXFMKkxo3HjsPAa/BbDopOF/HZjQsGH4Mat1o2FId40Mpa1bC0sluFSO4MVKjpWnN15ASyz9YKleCPNpsFimJIVJuCjv9XKxRFxjRXttC5YNxaG0A/0ZwWN0/erwPK5gr51WIkhm4oWw3PX0zzPVcNKTCZJYSUeiZP1rF/ws66Nr/AsZxksJ4VlHU3jHUrVwOItbGDqxvSUD/0Hd/BsFomwBSvOG4sQ1QFubmZGdINnCZzav3j6j7YgSjlphcar/OIZ2YJjB2OJIqxQ31CCVOyofOqiudlsPHS5paXltzIsbF+WrtY00/ZhK963nIYYrDIM04H5gZszswGGF3iGdSMnhvepTJieSFIFi+E6ck+DfIrxMbxb/akpGXhZeI4Dz+P5LG71SfBwN8cxFC+JxEISK+qeHEkOeSuORB5vd7DS6UOzdMuf1KTVF72720xvlDSOXytMsFYOyxecybncPMSiKy26wHOIK2AhEHeMnKLw+mlJzIok6AYAJOiyBF3FD01SREilwKmiHQLh3EwqGjVEU/CrJ7aUSBiBIR3dBOzF+FAvsoIfayOE0urLUHiErSAeeRz0SJP40j24EjgjbRqt0n1usGk4W8FtkuVhOHdnJtc2d8ctzg/k89Mdqbm3vxsYmAG3kawYf2xoSB2GwXfyAzmRd83l5/MDM9cL8RNdWFi4det2iru2eOvWosCTxdHFW4v9dH1xdInhfLB7qYdnSCLm59C/+iJDMrZkjC4iQwnNtMC509EJ+VZSWkVYpdG17GS0wLeax4cFk6D9zj81rCzLizP5gfzAwO/EqYEbv//dwB3XnYGc792B2WDALWtysi9C3EVNPczNEJ8Idr9/ODArylt9ZOnWcHf9XR9ZWOx+b2mBkMWl4WFc1t8dfm9pyU0mlrrJwhJxA5p7cAAEY++9iAd/MsQhXWSGeuHHVeBcSiSuenc3RuGt4ayhVJV4lvv9Tz754A/HPjl27OMPjh079sEn9PXRB7ii6OyHHx5T66M/fHxMsf24YHT200/Pnv3s089g/9mzf4T2p3/E5bGS5WefgumHf6JHfPinz499ojTp4vPP4e2odlp8OjpiNltX/84Abr8gWCq7D14FC5bus0dQ948ceZU2pPcy3b9fsla2XmJ1X9orN+F1X728X9hR2F/2P7h/5M8VwOL5qFAvheJKWc0j51mbrVpYWAf8ubX1iy8ePGh9AO+trR98AY1W0INvWgt68OWXrWpR0wetX+ALDoWDqb766ptWaH/9FVjA2wNYh9eDVnn5zVdf47Fg8vWXrXjUl1/CgdhslZr4P4X2+5ph0U6Yi45dMCszY1LZQLOV1TxqSBtM1XsWjUOfOJMTfW7XzwP3yLv5h665gamgT5WiREIGI6SYtAIigZxFgu8OPBSDuVxhB4H8BO9i/5VrBHKTj9x6RMjoXUIm7o6MYM5aqiekfxRMwp5JtIz0ETLpuQdZivQN0pw12RWqKGdJSqXG6o0KLRSiGx+9xmcNFX+Frrx0EKB0CPAsn50ZmBnIBd0AS11lib1D0B0OxZQi3jeF/UE+P3dnYMrlyuUKBVJ0cSHKYyG1uPRoYXGJA1jR1OhSijEsLC48usul+u8uLtwdDUCv19fHEewNidjr8XNYZ4Xxx5A+T7KKWh7yfNRwEb9wSGW2jl+Y6Beylmq+b1gGC+qfqSksr/jAjdnpgIW5Pn2nZCjoTVDJZRfL3Jmenr4xfeO6bfoOz8GhvFyl8+f6adkeFW6PDl+7zXNj1xhueAwq12g0evsWcGy6/egcdw8aoRhU8OJkL+FCCZbzD8qMxHDSVs0oiqclakroHxsZHRkZGxbSjMlgypYHYDWexfK+AC0+ebcrgPV7oPS6MyMS+CcWzQNBV0fAxXNQyTIuV6HO4lOcBI2DypQDJ0thHZ+CYfftRyNLCylcSUWpich1dRFGFLEeZbhw36TsTyKphhWjjO45KIejHI4CKYrVvyuzQy/+8ROLi4/updSjP44Q9Uo1Vx3W+p/yq/rTjodlISQa3fIrYLsUlhRa7i2mtUthbY90WBqkw9IgHZYG6bA0SIelQVsGa939201hg9o0WDyMo1lOGT7zbpaDDUGXqzA/VjpvCEPf7UbxYm0KLJzzwtkJfm6aYVO46pvK5wLC9emfb0y5U5KNRT1vyIieWOVTV1ulzYHFZBlglO6Yz6d5QYBd3FxuPshff/vt/Ex3FizSvMxMFkcGM+WwSnyN53fA9P6mwGJ4n7uD592B2bzPzYuw6gsEAjgjRnI5F1r4gmmfq+hajCgSUkqDI6xqWgZ2M3RsjF/w3GpGBW0GLP7v7wSnZu68e5PM3pzND8x2uO/M5POz3XhJNJcLCozbdQM2zLvcjHJFNObx9Klme3xu0tNV2AJrnq6YPRYX3W6bZyhU8XXPnQiLOZ//9i/w383AX/Lffftd/tu2tvnpm9+db2tr+2sul4bFt/nv2qbz/95WUCLR13e+TaX/GIolimtRT+xvf4sNokUs9ve2tpcIlvujV1898ur3r4KO0HdJ36uWsP37kp2a9P02ReImwOJTx1ab1Sqd4nrB1BjOc6k33C+12KZcvylh2PbDD4/f/+HxP47+5+OjR3+EJejxD/h+9IfHR388evQfj388WqrX/uun19Tr//3TT/8sbngNVl7750+0iVtTLw8sNjh/M+fKvX3HNX8z5WMHpjuCQTIzS0S+w5WbgY4vMJWfC5DZKZ8i6OwyMUJw2l7Z4k5C5aXsJ/YuQiIxl88XTCZFn8/yEsEKPMzPijN5t2t2wOK7np8O4v0h+ZkZwrqnoDUjBnL53Ex+jpPDiZv0UIVVuShASLF0kGFxDBdqtIfF7FZTkrU5Ren1+bnAwxsB39Q8bJ+f65iap3Jledfc9Py0m3VNz87f8wms/KQcb5IqpHp4DpZUhRWSnAyKvQnYKOI3ZLeJ1SaNDXkX3puFSyg8oc27qOiuIF3Cu+oI+n1Xsg4FLEhF6X6rbRxD6pdoNEiHpUE6LA3SYWmQDkuDdFgapMPSIB2WBumwNEiHpUE6LA3abljyx6DPn1C1VZ9QNUWhflhF6XrBYG3j3Q+LYW02pW2TT9JWaIIIF4rHQ/LoWXWgDTHbiqvcC413OSybzeuPeQoaIozNFgpFsI2XssDA780MNTocjUMJouxRlPSr1yOEGnvQOIbG/kG1sfbvOm0fLJ6QVZ6SYTL1eOP2Rjg/OEPQEJywLR7CpqMLDrD1hMIeuodu8PqHGotyJEKqdUeXqDZOorFDZd1bm9txtwIWQzIZsnIzwuptlGChBgk4ljeJJwlt9Dsv4nA00tP2e+MKDDyi0esNeQrHOpOc1+spGtu8Ybva2F+brLUVsEimoaFrBS3GZPJ7E3BKfRFJvSLw6QE+cNZ9FFwX7o2He5FKosebAaNYo3wA7w030r2oSX8oRI29inE8EhkcVIwzNbpgWANYdXUvghVpQFplFkyTiZ6hY5LIskHa6XU02iOQd4gMzkHYkL/Lbm9MEA6fQNwH5+8FWxFA04AT8QHOrGTcqBj3Fo1D+JNrw6o2sOrWf3APj67V0FWatxi2yeT19wEsEb9BjQJn6oHz84C7DSEsDCwPfc4iPWHWBgeAs3h6ONoTQMA66JdWsUuFIEVjRjIW6SZMap6qvoxSe1gYhut/Ik6mtQJWD6Zh2a/APXq8IUzWAMsjyrAAh3JtHtO/zY4dAeXqBwd0FHySwqJOqjIGx4rV8pJ9LWDV1TW94HFnwdV8y2CKU9+RZnaSLHoLJp4wJjKEFcKc44gNJmz0biSbrScewsREJL+hGSmG6hILxhGVsVcy3kmwDvbCb9v+QuGjiTMqWozN0BOfLHaGTnQPEwTOEAuwHLTISsj9mfQNLzmlSWWFjXaG8v4MKRg7VMb4c6r6/txmwGrYsBLFL4JBBpI6Q1ke+YQdyRAS8YJr+UNJuQCg5yx7niNBazAoDgqkE2Q9450Fy7EBNZ4AVhFVjwieJRVVsgH0f15M742ED2OqErGC7/EmY7S6csjnPwjtSVFyMsxIXZlMV1cmxDF0PNAlGTfKSU023kmw9h08+BsLeZEyNAp5Xu1Z3tAg9SGa1grO4rF7GpXw4ViRD2GYQ55X8pQ9RDtDBA1+o56cReMEGk+KaGzDnrNG5WjNYEGGP7DuE4p4RmalTu+mJjx37NDwdDhOSe+F4Y1UAyjdXoKOhXg7rQ+ok2Vga08BBWWGtcegQyYbZ+Sec4fBevFwZwUrhAWdoQPPnT4fSi4VFFiDvD8J/VyYwfOHdT+H/ZvfQYsBNO6JYXDKTumnxnFWKtQcJvRTpefcZbBoBZ8pG0ubDLY4hJ2jDxkWe69Bb3hy0gObTSF0qD5epJHlIdRiEjZF5M4QO05I7CB/T4gaD4pgTEfk6p6zRqK/FtP6f+ytVrDKWQEsfxxPZ5DCoqePThHnWFoUxIK0q3R4huhgOiGdf1IqBjDIwmBkly7A2MN+qauQjXtJocKvSWcIGSZKhAPnQAdM6bRhtacU1DAMI5EyVjxvMIXkc0cLG55+o10aE9JhCvF6Y45iBpPyFPhPI0UhXa9QdveYvPGhxlWNa9IZcq5zp05KOn7qIm9Z608v1uR6FrPiehbD9oArDTodJ8K09KIn53Q4k3QA7YFSgvSEwn1SVUEfWyR1hk5Ho5eTnMxZLEtE26rGtbo2kxIUVBTXsrDiL9fWEBYUDKsNtG2sNxwOK9d/bWxcXrMx2EKGTCjR1ZXA68Q8PndZ2sFJR4TCBcWxzGK5gjFT/Ck1KRyiy1dPnVuWSIFOLvObCGuNfQxL5xJoE4V/LYspacl/1KFYlxRNaFOWTIRTlVyyRW2KrOipk/3RwPGTCq5Ta/1RT30qDGq4UyeXo+eOF1xLh7WOwLMAUoHV8VObmuBfAlgyJwXWao/t0WFFMREKAuIRhFMyLLa7u7uj0yTU5PlZLwssH8cvnypqWfGsjtOnnzx52mmpwZPZXh5Y0aaTpZJhiadPt7ef/leHHoZF8eLxEkjHVZ7VDv9+7tRhFZS6WO5TMiwXOBboWbcOqyByan1YpwOCDksRf3xVVsfPTcmw5nRYijg5vR8vS1nLnf9ql3SjQ4cliztQ9KtTy8ujy1Qj7wWenpZhzXbrsGQVYP3P8W4yN/tU0TPK6syZM+2zumcp4g5AAFLHck09+eWXX07Lai/AqjQM+Yph7YhngawqKcEfP7n8vwVQSgAiqzPtU5Ul+Or+NsrO9CypdICM/t6vv6zG6syZ8uH0xmDtx2cavXQSl6V+8P+elTmWhOpMhUXpvn0H9x+sQgcMO1GmfWpY7UVJrNorHO6g6ioURb3W5NK2SmAk11I8q73Esdrf6S6/BrhxWNVoZ8IyCdll7A9lWO2nT/9SjMbnT7vZ8k+9RbDWmC7ZXglpQ1bYv+9c5zPZqYJBl8sVDLg6XB2BQKBzxcXlLYK1tRQ2KLwUKggWS+CZnLGeP3mOema5ZwIuNss2heEWY9Cmjmdl6d22RtbQYZXCejb1a/vztW520GGVwnrY2XbmzPU1DHVYBkPnr8Wa4dfA7JnnnbpnrSWL0PnkdCFftZ9pf9pR1STrSw3LZGA7nz4p0Hp+o3NFNyhLhwX1lkXoCEw9/RX09MZcR8eKyVVFOiyQyQQ1V2dnN05ECyaDba2bJXVYGqTD0iAdlgbpsDRIh6VBOiwN0mFp0ObCOniwToe1QTUJgg5rg9rfZDLs02FtSHU6LA3a32Sw7Nuvw9JhoXRY60iHpUE6LA3SYWmQDkuDymD9Px7GAe1lXlopAAAAAElFTkSuQmCC)](https://youtu.be/Qgevy75co8c)"
   ]
  }
 ],
 "metadata": {
  "kernelspec": {
   "display_name": "Python 3.10.6 64-bit",
   "language": "python",
   "name": "python3"
  },
  "language_info": {
   "codemirror_mode": {
    "name": "ipython",
    "version": 3
   },
   "file_extension": ".py",
   "mimetype": "text/x-python",
   "name": "python",
   "nbconvert_exporter": "python",
   "pygments_lexer": "ipython3",
   "version": "3.10.6"
  },
  "orig_nbformat": 4,
  "vscode": {
   "interpreter": {
    "hash": "26de051ba29f2982a8de78e945f0abaf191376122a1563185a90213a26c5da77"
   }
  }
 },
 "nbformat": 4,
 "nbformat_minor": 2
}
